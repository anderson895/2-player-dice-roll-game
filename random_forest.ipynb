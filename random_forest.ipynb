{
  "nbformat": 4,
  "nbformat_minor": 0,
  "metadata": {
    "colab": {
      "provenance": [],
      "include_colab_link": true
    },
    "kernelspec": {
      "name": "python3",
      "display_name": "Python 3"
    },
    "language_info": {
      "name": "python"
    }
  },
  "cells": [
    {
      "cell_type": "markdown",
      "metadata": {
        "id": "view-in-github",
        "colab_type": "text"
      },
      "source": [
        "<a href=\"https://colab.research.google.com/github/anderson895/2-player-dice-roll-game/blob/main/random_forest.ipynb\" target=\"_parent\"><img src=\"https://colab.research.google.com/assets/colab-badge.svg\" alt=\"Open In Colab\"/></a>"
      ]
    },
    {
      "cell_type": "markdown",
      "source": [
        "2.5 Random Forest (M4)\n",
        "\n",
        "Data set link\n",
        "\n",
        "https://archive.ics.uci.edu/ml/machine-learning-databases/00544/ObesityDataSet_raw_and_data_sinthetic.csv'\n"
      ],
      "metadata": {
        "id": "6NgXc74pvNEb"
      }
    },
    {
      "cell_type": "code",
      "source": [
        "# Imports libraries\n",
        "import pandas as pd\n",
        "import numpy as np\n",
        "from sklearn.model_selection import train_test_split, GridSearchCV\n",
        "from sklearn.ensemble import RandomForestClassifier\n",
        "from sklearn.preprocessing import LabelEncoder\n",
        "from sklearn.metrics import classification_report, confusion_matrix, accuracy_score\n",
        "\n",
        "# 📂 Load the dataset from csv\n",
        "df = pd.read_csv('/content/ObesityDataSet_raw_and_data_sinthetic.csv')\n",
        "\n",
        "# View heads and collumn type\n",
        "print(df.head())\n",
        "print(\"\\nColumn Types:\\n\", df.dtypes)\n",
        "\n",
        "label_encoders = {}\n",
        "for column in df.select_dtypes(include=['object']).columns:\n",
        "    le = LabelEncoder()\n",
        "    df[column] = le.fit_transform(df[column])\n",
        "    label_encoders[column] = le\n",
        "\n",
        "X = df.drop('NObeyesdad', axis=1)\n",
        "y = df['NObeyesdad']\n",
        "\n",
        "# Train-test split\n",
        "X_train, X_test, y_train, y_test = train_test_split(X, y, test_size=0.2, random_state=42)\n"
      ],
      "metadata": {
        "colab": {
          "base_uri": "https://localhost:8080/"
        },
        "id": "wyog-EbZwwZ3",
        "outputId": "a3c7cd2b-1c0c-4a08-8a05-17db0f870ad9"
      },
      "execution_count": null,
      "outputs": [
        {
          "output_type": "stream",
          "name": "stdout",
          "text": [
            "   Gender   Age  Height  Weight family_history_with_overweight FAVC  FCVC  \\\n",
            "0  Female  21.0    1.62    64.0                            yes   no   2.0   \n",
            "1  Female  21.0    1.52    56.0                            yes   no   3.0   \n",
            "2    Male  23.0    1.80    77.0                            yes   no   2.0   \n",
            "3    Male  27.0    1.80    87.0                             no   no   3.0   \n",
            "4    Male  22.0    1.78    89.8                             no   no   2.0   \n",
            "\n",
            "   NCP       CAEC SMOKE  CH2O  SCC  FAF  TUE        CALC  \\\n",
            "0  3.0  Sometimes    no   2.0   no  0.0  1.0          no   \n",
            "1  3.0  Sometimes   yes   3.0  yes  3.0  0.0   Sometimes   \n",
            "2  3.0  Sometimes    no   2.0   no  2.0  1.0  Frequently   \n",
            "3  3.0  Sometimes    no   2.0   no  2.0  0.0  Frequently   \n",
            "4  1.0  Sometimes    no   2.0   no  0.0  0.0   Sometimes   \n",
            "\n",
            "                  MTRANS           NObeyesdad  \n",
            "0  Public_Transportation        Normal_Weight  \n",
            "1  Public_Transportation        Normal_Weight  \n",
            "2  Public_Transportation        Normal_Weight  \n",
            "3                Walking   Overweight_Level_I  \n",
            "4  Public_Transportation  Overweight_Level_II  \n",
            "\n",
            "Column Types:\n",
            " Gender                             object\n",
            "Age                               float64\n",
            "Height                            float64\n",
            "Weight                            float64\n",
            "family_history_with_overweight     object\n",
            "FAVC                               object\n",
            "FCVC                              float64\n",
            "NCP                               float64\n",
            "CAEC                               object\n",
            "SMOKE                              object\n",
            "CH2O                              float64\n",
            "SCC                                object\n",
            "FAF                               float64\n",
            "TUE                               float64\n",
            "CALC                               object\n",
            "MTRANS                             object\n",
            "NObeyesdad                         object\n",
            "dtype: object\n"
          ]
        }
      ]
    },
    {
      "cell_type": "markdown",
      "source": [
        " 2.5.1 Vanilla Random Forest (M4)\n"
      ],
      "metadata": {
        "id": "jjKNTmDMuQDL"
      }
    },
    {
      "cell_type": "code",
      "source": [
        "#Train Vanilla Random Forest\n",
        "rf_vanilla = RandomForestClassifier(random_state=42)\n",
        "rf_vanilla.fit(X_train, y_train)\n",
        "\n",
        "#Predict and Evaluate\n",
        "y_pred_vanilla = rf_vanilla.predict(X_test)\n",
        "print(\"Vanilla Random Forest Accuracy:\", accuracy_score(y_test, y_pred_vanilla))\n",
        "print(\"Classification Report:\\n\", classification_report(y_test, y_pred_vanilla))\n"
      ],
      "metadata": {
        "colab": {
          "base_uri": "https://localhost:8080/"
        },
        "id": "v3w2fIWfubw7",
        "outputId": "0589abf9-a921-4a4b-92e6-d786fbadb2fc"
      },
      "execution_count": null,
      "outputs": [
        {
          "output_type": "stream",
          "name": "stdout",
          "text": [
            "Vanilla Random Forest Accuracy: 0.9550827423167849\n",
            "Classification Report:\n",
            "               precision    recall  f1-score   support\n",
            "\n",
            "           0       0.98      0.96      0.97        56\n",
            "           1       0.89      0.90      0.90        62\n",
            "           2       0.99      0.97      0.98        78\n",
            "           3       0.97      0.98      0.97        58\n",
            "           4       1.00      1.00      1.00        63\n",
            "           5       0.88      0.89      0.88        56\n",
            "           6       0.98      0.96      0.97        50\n",
            "\n",
            "    accuracy                           0.96       423\n",
            "   macro avg       0.95      0.95      0.95       423\n",
            "weighted avg       0.96      0.96      0.96       423\n",
            "\n"
          ]
        }
      ]
    },
    {
      "cell_type": "markdown",
      "source": [
        " 2.5.2 Tuning the Hyperparameters (M4)"
      ],
      "metadata": {
        "id": "dnm09q6BuskT"
      }
    },
    {
      "cell_type": "code",
      "source": [
        "#Define hyperparameter grid\n",
        "param_grid = {\n",
        "    'n_estimators': [100, 200],\n",
        "    'max_depth': [None, 10, 20],\n",
        "    'min_samples_split': [2, 5],\n",
        "    'min_samples_leaf': [1, 2]\n",
        "}\n",
        "\n",
        "#Grid Search CV\n",
        "grid_search = GridSearchCV(RandomForestClassifier(random_state=42),\n",
        "                           param_grid,\n",
        "                           cv=3,\n",
        "                           n_jobs=-1,\n",
        "                           verbose=1)\n",
        "\n",
        "grid_search.fit(X_train, y_train)\n",
        "\n",
        "print(\"Best Parameters Found:\\n\", grid_search.best_params_)\n"
      ],
      "metadata": {
        "colab": {
          "base_uri": "https://localhost:8080/"
        },
        "id": "geJLuQRluggi",
        "outputId": "d47c90f6-2537-427b-b7ef-8e919c69eeab"
      },
      "execution_count": null,
      "outputs": [
        {
          "output_type": "stream",
          "name": "stdout",
          "text": [
            "Fitting 3 folds for each of 24 candidates, totalling 72 fits\n",
            "Best Parameters Found:\n",
            " {'max_depth': None, 'min_samples_leaf': 1, 'min_samples_split': 2, 'n_estimators': 200}\n"
          ]
        }
      ]
    },
    {
      "cell_type": "markdown",
      "source": [
        " 2.5.3 Final Hold-out for Random Forest (M4)"
      ],
      "metadata": {
        "id": "jhlgpWnlu0h5"
      }
    },
    {
      "cell_type": "code",
      "source": [
        "\n",
        "best_rf = grid_search.best_estimator_\n",
        "\n",
        "# Predict test set\n",
        "y_pred_final = best_rf.predict(X_test)\n",
        "\n",
        "# Final Evaluation\n",
        "print(\"Final Random Forest Accuracy:\", accuracy_score(y_test, y_pred_final))\n",
        "print(\"Final Classification Report:\\n\", classification_report(y_test, y_pred_final))\n",
        "print(\"Confusion Matrix:\\n\", confusion_matrix(y_test, y_pred_final))\n"
      ],
      "metadata": {
        "id": "pzC-c7iBuxBW",
        "colab": {
          "base_uri": "https://localhost:8080/"
        },
        "outputId": "bbbadd0a-b5ae-4cc8-81b8-493ee04721fb"
      },
      "execution_count": null,
      "outputs": [
        {
          "output_type": "stream",
          "name": "stdout",
          "text": [
            "Final Random Forest Accuracy: 0.9574468085106383\n",
            "Final Classification Report:\n",
            "               precision    recall  f1-score   support\n",
            "\n",
            "           0       1.00      0.96      0.98        56\n",
            "           1       0.88      0.95      0.91        62\n",
            "           2       0.99      0.96      0.97        78\n",
            "           3       0.97      0.98      0.97        58\n",
            "           4       1.00      1.00      1.00        63\n",
            "           5       0.91      0.88      0.89        56\n",
            "           6       0.96      0.96      0.96        50\n",
            "\n",
            "    accuracy                           0.96       423\n",
            "   macro avg       0.96      0.96      0.96       423\n",
            "weighted avg       0.96      0.96      0.96       423\n",
            "\n",
            "Confusion Matrix:\n",
            " [[54  2  0  0  0  0  0]\n",
            " [ 0 59  0  0  0  3  0]\n",
            " [ 0  0 75  2  0  0  1]\n",
            " [ 0  0  1 57  0  0  0]\n",
            " [ 0  0  0  0 63  0  0]\n",
            " [ 0  6  0  0  0 49  1]\n",
            " [ 0  0  0  0  0  2 48]]\n"
          ]
        }
      ]
    }
  ]
}